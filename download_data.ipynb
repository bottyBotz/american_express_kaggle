{
 "cells": [
  {
   "cell_type": "code",
   "execution_count": null,
   "metadata": {},
   "outputs": [],
   "source": [
    "!pip install -q kaggle\n",
    "from google.colab import files\n",
    "files.upload()"
   ]
  },
  {
   "cell_type": "code",
   "execution_count": null,
   "metadata": {},
   "outputs": [],
   "source": [
    "#Make directory named kaggle and copy kaggle.json file there.\n",
    "! mkdir ~/.kaggle\n",
    "! cp kaggle.json ~/.kaggle/\n",
    "\n",
    "#Change permissions of the file\n",
    "! chmod 600 ~/.kaggle/kaggle.json\n",
    "\n",
    "#Check if everything's okay by running this command.\n",
    "! kaggle datasets list"
   ]
  },
  {
   "cell_type": "code",
   "execution_count": null,
   "metadata": {},
   "outputs": [],
   "source": [
    "#TEMPLATE:\n",
    "#!kaggle competitions download -c 'name-of-competition'\n",
    "#https://www.kaggle.com/competitions/house-prices-advanced-regression-techniques/data\n",
    "#TODO: Update to be the correct dataset.\n",
    "!kaggle competitions download -c house-prices-advanced-regression-techniques\n",
    "\n",
    "!unzip house-prices-advanced-regression-techniques.zip"
   ]
  }
 ],
 "metadata": {
  "language_info": {
   "name": "python"
  },
  "orig_nbformat": 4
 },
 "nbformat": 4,
 "nbformat_minor": 2
}
